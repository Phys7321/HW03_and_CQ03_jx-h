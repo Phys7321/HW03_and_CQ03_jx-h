{
 "cells": [
  {
   "cell_type": "markdown",
   "metadata": {},
   "source": [
    "The Canonical Ensemble\n",
    "======================\n",
    "\n",
    "Most physical systems are not isolated, but exchange energy with the\n",
    "environment. Since the system is very small compared to the environment,\n",
    "we consider that the environment acts effectively as a heat reservoir or\n",
    "heat bath at a fixed temperature $T$. If a small system is put in\n",
    "thermal contact with the heat bath, it will reach thermal equilibrium\n",
    "exchanging energy until the system attains the temperature of the bath.\n",
    "\n",
    "Imagine an infinitely large number of mental copies of the system and\n",
    "the heat bath. The probability $P_s$ that the system is found in a\n",
    "microstate $s$ with energy $s$ is given by:\n",
    "$$P_s=\\frac{1}{Z}e^{-E_s/k_BT},\n",
    "$$ where $Z$ is the normalization constant. This\n",
    "corresponds to the canonical ensemble. Since $\\sum P_s = 1$, we have\n",
    "$$Z=\\sum_s{e^{-E_s/k_BT}},\n",
    "$$ where the sum is over all the possible microstates of the\n",
    "system. This equation defines the “partition function” of the system.\n",
    "\n",
    "We can use (\\[c\\_boltz\\]) to obtain the ensemble average of physical\n",
    "quantities of interest. For instance, the mean energy is given by:\n",
    "$$\\langle E \\rangle = \\sum_s E_s\\, P_s=\\frac{1}{Z}\\sum_s{E_s\\,e^{-\\beta\n",
    "E_s}},$$ with $\\beta=1/k_BT$.\n",
    "\n",
    "The Metropolis algorithm\n",
    "------------------------\n",
    "\n",
    "We want to obtain an estimate for the mean value of an observable $A$:\n",
    "$$\\langle A \\rangle = \\sum_s A_s e^{-\\beta E_s}/\\sum_s e^{-\\beta E_s},$$\n",
    "where $E_s$ and $A_s$ are the values of the energy and the quantity $A$\n",
    "in the configuration $s$. The idea of using Monte Carlo consists in\n",
    "sampling a subset of configuration and approximating the average by the\n",
    "mean over the sample:\n",
    "$$\\langle A \\rangle \\simeq \\sum_s^{m} A_s e^{-\\beta E_s}/\\sum_s^{m}\n",
    "e^{-\\beta E_s},$$ where the sampling is over $m$ configurations.\n",
    "\n",
    "A crude Monte Carlo procedure is to generate a configuration at random,\n",
    "calculate $E_s$ and $A_s$, and the contributions of this configuration\n",
    "to the sums. This is equivalent to the “hit and miss” Monte Carlo method\n",
    "for evaluating integrals. We have seen that this approach is very\n",
    "inefficient, because the configurations generated would likely be very\n",
    "improbable and contribute very little to the sum. Instead, we want to\n",
    "generate a sample of configurations that are <span>*important*</span>,\n",
    "<span>*i. e.*</span> have large contributions to the sums. This is\n",
    "precisely the equivalent to “importance sampling”. Hence, we need to\n",
    "generate the configurations according to a probability distribution. In\n",
    "this case, the most convenient one is not other than the Boltzmann\n",
    "probability itself $P_s$ (\\[c\\_boltz\\]). Since we will average over the\n",
    "$m$ configurations generated with this probability, we must use the\n",
    "expression:\n",
    "$$\\langle A \\rangle \\simeq \\sum_s^{m} \\frac{A_s}{P_s} e^{-\\beta\n",
    "E_s}/\\sum_s^{m} \\frac{1}{P_s}e^{-\\beta E_s}\n",
    "= \\frac{1}{m}\\sum_s^{m}A_s$$\n",
    "\n",
    "The idea of the Monte Carlo algorithm consists in performing a random\n",
    "walk over the space of configurations. The walker “hops” from a\n",
    "configuration $i$ to another $j$ using the “transition probability”\n",
    "$$W=\\min{\\left(1,\\frac{P_j}{P_i}\\right)}.$$ Replacing by the\n",
    "corresponding expression, we obtain:\n",
    "$$W=\\min{\\left(1,e^{-\\beta(E_j-E_i)}\\right)}.$$\n",
    "\n",
    "Since we are only interested in the ratio $P_j/P_j$, it is not necessary\n",
    "to know the normalization constant $Z$. Although we have picked this\n",
    "expression for the transition probability $W$, is not the only choice.\n",
    "It can be shown that the only requirement is that $W$ satisfies the\n",
    "“detailed balance” condition:\n",
    "$$W(i \\rightarrow j)e^{-\\beta E_i} = W(j \\rightarrow i)e^{-\\beta E_j}.$$\n",
    "\n",
    "Another comon choice in the literature is given by:\n",
    "$$W(i\\rightarrow j)=\\frac{1}{e^{-\\beta (E_j-E_i)}+1}.$$ Note that if\n",
    "$\\Delta E=0$, then $W=1/2$ and the trial configuration has an equal\n",
    "probability of being accepted.\n",
    "\n",
    "The pseudocode for a Monte Carlo simulation can be outlined as follows:\n",
    "\n",
    "1.  Establish an initial configuration.\n",
    "\n",
    "2.  Make a random trial change in the configuration. For example, choose\n",
    "    a spin at random and try to flip it. Or choose a particle at random\n",
    "    and attempt to displace it a random distance.\n",
    "\n",
    "3.  Compute the change in the energy of the system $\\Delta E$ due to the\n",
    "    trial change.\n",
    "\n",
    "4.  If $\\Delta E \\leq 0$, accept the new configuration and go to step 8.\n",
    "\n",
    "5.  If $\\Delta E$ is positive, compute the “transition probability”\n",
    "    $W=e^{-\\beta \\Delta E}$.\n",
    "\n",
    "6.  Generate a random number $r$ in the interval $[0,1]$.\n",
    "\n",
    "7.  If $r \\leq W$, accept the new configuration; otherwise retain the\n",
    "    previous configuration.\n",
    "\n",
    "8.  Repeat steps (2) to (8) to obtain a sufficient number of\n",
    "    configurations or “trials”.\n",
    "\n",
    "9.  Compute averages over configurations which are statistically\n",
    "    independent of each other.\n",
    "    \n",
    "### Important conditions for validity\n",
    "\n",
    "A Monte Carlo algorithm must satisfy detailed balance, but also **Ergodicity**. This means that the possible moves should guarantee that the system will explore the entire phase space. If there are regions of phase space that are not accessible via local moves, for instance, one should implement global moves or more complex update strategies.\n",
    "\n",
    "### Exercise 1: Classical gas in 1D \n",
    "\n",
    "In this case, we assume that the particles do not interact and \n",
    "the particle velocities are continuous and unbounded. The\n",
    "energy is the sum of the kinetic energies of the individual\n",
    "particles. Hence, for and ideal gas, the only coordinates of interest are\n",
    "the velocities. In order to change a configuration, we choose a particle\n",
    "at random and change its velocity by a random amount according to the corresponding\n",
    "transition probability. For simplicity we\n",
    "consider only the one-dimensional case.\n",
    "\n",
    "1.  Simulate an ideal gas of $N$ particles in 1D. Choose $N=20$, $T=100$\n",
    "    and 200 MC steps. Give all the particles the same initial velocity\n",
    "    $v_0=10$. Determine the value of the maximum velocity change\n",
    "    $\\Delta v$ so that the acceptance ratio is approximately $50\\%$.\n",
    "    What is the mean kinetic energy and mean velocity of the particles?\n",
    "\n",
    "2.  We might expect that the total energy of an ideal gas to remain\n",
    "    constant since the particles do not interact with each other and\n",
    "    hence they cannot exchange energy directly. What is the initial\n",
    "    value of the energy of the system? Does it remain constant? If it\n",
    "    does not, explain how the energy changes. Explain why the measured\n",
    "    mean particle velocity is zero even though the initial particle\n",
    "    velocities are not zero.\n",
    "\n",
    "3.  What is a simple criterion for “thermal equilibrium”? Estimate the\n",
    "    number of Monte Carlo steps per particle necessary for the system to\n",
    "    reach thermal equilibrium. What choice of the initial velocities\n",
    "    allows the system to reach thermal equilibrium at temperature $T$ as\n",
    "    quickly as possible?\n",
    "\n",
    "4.  Compute the mean energy per particle for $T=10$, $100$ and $400$. In\n",
    "    order to compute the averages after the system has reached thermal\n",
    "    equilibrium, start measuring only after equilibrium has\n",
    "    been achieved. Increase the number of Monte Carlo steps until the\n",
    "    desired averages do not change appreciably. What is the approximate\n",
    "    number of warmup steps for $N=10$ and $T=100$, and for $N=40$ and\n",
    "    $T=100$? If the number of warmup steps is different in the two\n",
    "    cases, explain the reason for this difference.\n",
    "\n",
    "5.  Compute the probability $P(E)dE$ for the system of $N$ particles to\n",
    "    have a total energy between $E$ and $E+dE$. Do you expect $P(E)$ to\n",
    "    be proportional to $e^{-\\beta E}$? Plot $P(E)$ as a function of $E$\n",
    "    and describe the qualitative behavior of $P(E)$. Does the plot of\n",
    "    $\\ln{(P(E))}$ yield a straight line?\n",
    "    \n",
    "6.  Compute the mean energy for $T=10$, $20$, $30$,... $90$, $100$ and\n",
    "    $110$ and estimate the heat capacity.\n",
    "\n",
    "7.  Compute the mean square energy fluctuations $\\langle \\Delta E^2\n",
    "    \\rangle = \\langle E^2 \\rangle - \\langle E \\rangle ^2$ for $T=10$ and\n",
    "    $T=40$. Compare the magnitude of the ratio $\\langle \\Delta E^2\n",
    "    \\rangle/T^2$ with the heat capacity determined in the previous item.\n",
    "\n"
   ]
  },
  {
   "cell_type": "code",
   "execution_count": 3,
   "metadata": {},
   "outputs": [
    {
     "name": "stdout",
     "output_type": "stream",
     "text": [
      "Acceptance ratio=  0.827\n",
      "<Energy>= 39.98737949186431\n",
      "<Energy^2>= 4798.997388168398\n",
      "Error= 0.04000004293461463\n",
      "Acceptance ratio=  0.844432\n"
     ]
    },
    {
     "data": {
      "image/png": "[encoded data removed]",
      "text/plain": [
       "<Figure size 432x288 with 1 Axes>"
      ]
     },
     "metadata": {
      "needs_background": "light"
     },
     "output_type": "display_data"
    }
   ],
   "source": [
    "%matplotlib inline\n",
    "import numpy as np\n",
    "from matplotlib import pyplot\n",
    "\n",
    "nwalkers = 20\n",
    "v = np.zeros(nwalkers)\n",
    "v.fill(20)\n",
    "T = 80\n",
    "delta = 5\n",
    "\n",
    "def metropolis(vold):\n",
    "    global delta, T\n",
    "    vtrial = np.random.random()    \n",
    "    vtrial = vold+(2*vtrial-1)*delta\n",
    "    weight = np.exp(-(vtrial**2-vold**2)/T)\n",
    "    vnew = vold\n",
    "    if(weight >= 1): #Accept\n",
    "        vnew = vtrial\n",
    "    elif(weight != 0):\n",
    "        r = np.random.random()\n",
    "        if(r <= weight): #Accept\n",
    "            vnew = vtrial\n",
    "    return vnew\n",
    "\n",
    "# Warmup loop\n",
    "\n",
    "Nwarmup = 100\n",
    "Ewarmup = np.zeros(Nwarmup)\n",
    "\n",
    "Naccept = 0.\n",
    "for j in range(Nwarmup):\n",
    "    for i in range(nwalkers):\n",
    "        vold = v[i]\n",
    "        v[i] = metropolis(v[i])\n",
    "        if(v[i] != vold):\n",
    "            Naccept += 1\n",
    "        \n",
    "    Ewarmup[j] = np.sum(v**2)/nwalkers\n",
    "\n",
    "x = np.arange(0,Nwarmup,1)\n",
    "pyplot.plot(x,Ewarmup,ls='-',c='blue');\n",
    "\n",
    "\n",
    "print(\"Acceptance ratio= \", Naccept/float(Nwarmup*nwalkers))\n",
    "\n",
    "# Measurement loop\n",
    "\n",
    "Nmeasure = 100000\n",
    "Naccept = 0.\n",
    "E = 0.\n",
    "E2 = 0.\n",
    "for j in range(Nmeasure):\n",
    "    for i in range(nwalkers):\n",
    "        vold = v[i]\n",
    "        v[i] = metropolis(v[i])\n",
    "        if(v[i] != vold):\n",
    "            Naccept += 1\n",
    "\n",
    "    E += np.sum(v**2)\n",
    "    E2 += np.sum(v**4)\n",
    "\n",
    "E = E/Nmeasure/nwalkers\n",
    "E2 = E2/Nmeasure/nwalkers\n",
    "print(\"<Energy>=\", E)\n",
    "print(\"<Energy^2>=\", E2)\n",
    "print(\"Error=\", np.sqrt((E2-E**2)/Nmeasure/nwalkers))\n",
    "\n",
    "print(\"Acceptance ratio= \", Naccept/float(Nmeasure*nwalkers))\n",
    "        \n",
    "    "
   ]
  },
  {
   "cell_type": "markdown",
   "metadata": {},
   "source": [
    "#### Challenge 3\n",
    "\n",
    "Exercise 1, items 4-7"
   ]
  },
  {
   "cell_type": "markdown",
   "metadata": {
    "collapsed": true
   },
   "source": [
    "4.  Compute the mean energy per particle for $T=10$, $100$ and $400$. In\n",
    "    order to compute the averages after the system has reached thermal\n",
    "    equilibrium, start measuring only after equilibrium has\n",
    "    been achieved. Increase the number of Monte Carlo steps until the\n",
    "    desired averages do not change appreciably.\n",
    "    \n",
    "    What is the approximate\n",
    "    number of warmup steps for $N=10$ and $T=100$, and for $N=40$ and\n",
    "    $T=100$?\n",
    "    \n",
    "    If the number of warmup steps is different in the two\n",
    "    cases, explain the reason for this difference.\n"
   ]
  },
  {
   "cell_type": "code",
   "execution_count": 6,
   "metadata": {
    "scrolled": true
   },
   "outputs": [],
   "source": [
    "Tarray = [10,100,400]\n",
    "nwalkers = 20 # number of particles \n",
    "\n",
    "Nwarmup = [0,0,0]\n",
    "meanE = np.zeros(len(Tarray))\n",
    "meanE2 = np.zeros(len(Tarray))\n",
    "Nmeasure = 10**5\n",
    "for l, T in enumerate(Tarray):\n",
    "    v = np.zeros(nwalkers)\n",
    "    v.fill(20)\n",
    "    Nwarmup[l] = 0\n",
    "    Ewarmup = np.sum(v**2)/nwalkers\n",
    "    while (Ewarmup >= T/2):\n",
    "        for i in range(nwalkers):\n",
    "            vold = v[i]\n",
    "            v[i] = metropolis(v[i])\n",
    "        Ewarmup = np.sum(v**2)/nwalkers    \n",
    "        Nwarmup[l] += 1\n",
    "    for j in range(Nmeasure):\n",
    "        for i in range(nwalkers):\n",
    "            vold = v[i]\n",
    "            v[i] = metropolis(v[i])\n",
    "        \n",
    "        meanE[l] += np.sum(v**2)\n",
    "        meanE2[l] += np.sum(v**4)\n",
    "        \n",
    "    meanE[l] = meanE[l]/Nmeasure/nwalkers\n",
    "    meanE2[l] = meanE2[l]/Nmeasure/nwalkers\n",
    "    "
   ]
  },
  {
   "cell_type": "code",
   "execution_count": 7,
   "metadata": {
    "scrolled": true
   },
   "outputs": [
    {
     "data": {
      "text/plain": [
       "Text(0,0.5,'<E>')"
      ]
     },
     "execution_count": 7,
     "metadata": {},
     "output_type": "execute_result"
    },
    {
     "data": {
      "image/png": "[encoded data removed]",
      "text/plain": [
       "<Figure size 432x288 with 1 Axes>"
      ]
     },
     "metadata": {
      "needs_background": "light"
     },
     "output_type": "display_data"
    }
   ],
   "source": [
    "pyplot.plot(Tarray,meanE,'o-')\n",
    "pyplot.xlabel('T')\n",
    "pyplot.ylabel('<E>')"
   ]
  },
  {
   "cell_type": "code",
   "execution_count": 19,
   "metadata": {},
   "outputs": [
    {
     "name": "stdout",
     "output_type": "stream",
     "text": [
      "the approximate number of warmup steps for N=10 and T=100 is 22\n"
     ]
    }
   ],
   "source": [
    "# the approximate number of warmup steps for N=10 and T=100\n",
    "nwalkers = 10 # number of particles \n",
    "Nwarmup = 0\n",
    "\n",
    "v = np.zeros(nwalkers)\n",
    "v.fill(20)\n",
    "T = 100\n",
    "Nwarmup = 0\n",
    "Ewarmup = np.sum(v**2)/nwalkers\n",
    "while (Ewarmup >= T/2):\n",
    "    for i in range(nwalkers):\n",
    "        vold = v[i]\n",
    "        v[i] = metropolis(v[i])\n",
    "    Ewarmup = np.sum(v**2)/nwalkers    \n",
    "    Nwarmup += 1\n",
    "print('the approximate number of warmup steps for N=10 and T=100 is',Nwarmup)  "
   ]
  },
  {
   "cell_type": "code",
   "execution_count": 21,
   "metadata": {},
   "outputs": [
    {
     "name": "stdout",
     "output_type": "stream",
     "text": [
      "the approximate number of warmup steps for N=40 and T=100 is 34\n"
     ]
    }
   ],
   "source": [
    "# the approximate number of warmup steps for N=40 and T=100\n",
    "nwalkers = 40 # number of particles \n",
    "Nwarmup = 0\n",
    "\n",
    "v = np.zeros(nwalkers)\n",
    "v.fill(20)\n",
    "T = 100\n",
    "Nwarmup = 0\n",
    "Ewarmup = np.sum(v**2)/nwalkers\n",
    "while (Ewarmup >= T/2):\n",
    "    for i in range(nwalkers):\n",
    "        vold = v[i]\n",
    "        v[i] = metropolis(v[i])\n",
    "    Ewarmup = np.sum(v**2)/nwalkers    \n",
    "    Nwarmup += 1\n",
    "print('the approximate number of warmup steps for N=40 and T=100 is',Nwarmup)  "
   ]
  },
  {
   "cell_type": "markdown",
   "metadata": {},
   "source": [
    "They are different because for bigger N, the variance is also bigger according to central limit theorem. So to reach the same standard, more steps are needed."
   ]
  },
  {
   "cell_type": "code",
   "execution_count": null,
   "metadata": {},
   "outputs": [],
   "source": []
  },
  {
   "cell_type": "markdown",
   "metadata": {},
   "source": [
    "5.  Compute the probability $P(E)dE$ for the system of $N$ particles to\n",
    "    have a total energy between $E$ and $E+dE$. Do you expect $P(E)$ to\n",
    "    be proportional to $e^{-\\beta E}$? Plot $P(E)$ as a function of $E$\n",
    "    and describe the qualitative behavior of $P(E)$. Does the plot of\n",
    "    $\\ln{(P(E))}$ yield a straight line?"
   ]
  },
  {
   "cell_type": "code",
   "execution_count": 27,
   "metadata": {
    "scrolled": true
   },
   "outputs": [
    {
     "data": {
      "text/plain": [
       "Text(0,0.5,'p (E)')"
      ]
     },
     "execution_count": 27,
     "metadata": {},
     "output_type": "execute_result"
    },
    {
     "data": {
      "image/png": "[encoded data removed]",
      "text/plain": [
       "<Figure size 432x288 with 1 Axes>"
      ]
     },
     "metadata": {
      "needs_background": "light"
     },
     "output_type": "display_data"
    }
   ],
   "source": [
    "nwalkers = 10**4\n",
    "v = np.zeros(nwalkers)\n",
    "\n",
    "T = 100\n",
    "delta = 5\n",
    "v_star = np.sqrt(T/2)\n",
    "v.fill(v_star)\n",
    "E_star = T/2\n",
    "E = np.zeros(nwalkers)\n",
    "\n",
    "\n",
    "# Warmup loop\n",
    "\n",
    "Nwarmup = 100 # reaching equilibrium\n",
    "Ewarmup = np.zeros(Nwarmup)\n",
    "\n",
    "for j in range(Nwarmup):\n",
    "    for i in range(nwalkers):\n",
    "        vold = v[i]\n",
    "        v[i] = metropolis(v[i])\n",
    "    \n",
    "for i in range(nwalkers):\n",
    "    v[i] = metropolis(v[i])\n",
    "    E[i] = v[i]**2\n",
    "    \n",
    "\n",
    "pyplot.hist(E,bins=np.arange( 1, T, T/100),density=True, log=True)    \n",
    "pyplot.xlabel('E')\n",
    "pyplot.ylabel('p(E)')"
   ]
  },
  {
   "cell_type": "markdown",
   "metadata": {},
   "source": [
    "Yes, it should be exponential distributed. And indeed it looks like a traight line in similogy axis."
   ]
  },
  {
   "cell_type": "markdown",
   "metadata": {},
   "source": [
    "6.  Compute the mean energy for $T=10$, $20$, $30$,... $90$, $100$ and\n",
    "    $110$ and estimate the heat capacity.\n",
    "\n",
    "\n",
    "7.  Compute the mean square energy fluctuations $\\langle \\Delta E^2\n",
    "    \\rangle = \\langle E^2 \\rangle - \\langle E \\rangle ^2$ for $T=10$ and\n",
    "    $T=40$. Compare the magnitude of the ratio $\\langle \\Delta E^2\n",
    "    \\rangle/T^2$ with the heat capacity determined in the previous item."
   ]
  },
  {
   "cell_type": "code",
   "execution_count": 34,
   "metadata": {
    "scrolled": true
   },
   "outputs": [],
   "source": [
    "nwalkers = 10**4 # numebr of ensembles\n",
    "v = np.zeros(nwalkers)\n",
    "Tarray = np.arange(10, 120, 10)\n",
    "delta = 5\n",
    "v_star = np.sqrt(T/2)\n",
    "v.fill(v_star)\n",
    "E_star = T/2\n",
    "E_array = np.zeros(nwalkers)\n",
    "E2_array = np.zeros(nwalkers)\n",
    "Nwarmup = 100 # reaching equilibrium\n",
    "heat_cap = np.zeros(len(Tarray))\n",
    "Eavg = np.zeros(len(Tarray)) #avg energy over all ensembles \n",
    "\n",
    "for k in range(len(Tarray)):\n",
    "    T = Tarray[k]\n",
    "    E = 0\n",
    "    E2 = 0\n",
    "\n",
    "    for j in range(Nwarmup):\n",
    "        for i in range(nwalkers):\n",
    "            v[i] = metropolis(v[i])\n",
    "        \n",
    "        for i in range(nwalkers):\n",
    "            v[i] = metropolis(v[i])\n",
    "            E_array[i] = v[i]**2\n",
    "            E2_array[i] = v[i]**4\n",
    "    \n",
    "    E = np.sum(E_array)/nwalkers\n",
    "    E2 = np.sum(E2_array)/nwalkers \n",
    "\n",
    "    heat_cap[k] = (E2-E**2)/(T**2)\n",
    "    Eavg[k] = E\n",
    "    \n",
    "heat_cap2 = np.mean(np.diff(Eavg)/np.diff(Tarray))"
   ]
  },
  {
   "cell_type": "code",
   "execution_count": 37,
   "metadata": {},
   "outputs": [
    {
     "data": {
      "text/plain": [
       "<matplotlib.legend.Legend at 0x1b67f464b00>"
      ]
     },
     "execution_count": 37,
     "metadata": {},
     "output_type": "execute_result"
    },
    {
     "data": {
      "image/png": "[encoded data removed]",
      "text/plain": [
       "<Figure size 432x288 with 1 Axes>"
      ]
     },
     "metadata": {
      "needs_background": "light"
     },
     "output_type": "display_data"
    }
   ],
   "source": [
    "\n",
    "pyplot.plot(Tarray, heat_cap,'bo')\n",
    "pyplot.plot(Tarray, np.linspace(heat_cap2, heat_cap2, len(Tarray)),'k-')\n",
    "\n",
    "pyplot.ylim(0,1)\n",
    "pyplot.xlabel('$T$')\n",
    "pyplot.ylabel('heat capacity $C_v$')\n",
    "pyplot.legend(['$<\\Delta E^2>/T^2$', '$\\Delta E/\\Delta T$'])\n"
   ]
  },
  {
   "cell_type": "markdown",
   "metadata": {},
   "source": [
    "They both fluctuate around 1/2 because\n",
    "$\\frac{C_v}{N} = k_B/2 = 1/2 = <\\Delta E^2>/T^2$"
   ]
  },
  {
   "cell_type": "code",
   "execution_count": null,
   "metadata": {},
   "outputs": [],
   "source": []
  },
  {
   "cell_type": "code",
   "execution_count": null,
   "metadata": {},
   "outputs": [],
   "source": []
  },
  {
   "cell_type": "code",
   "execution_count": null,
   "metadata": {},
   "outputs": [],
   "source": []
  },
  {
   "cell_type": "code",
   "execution_count": null,
   "metadata": {},
   "outputs": [],
   "source": []
  }
 ],
 "metadata": {
  "kernelspec": {
   "display_name": "Python 3",
   "language": "python",
   "name": "python3"
  },
  "language_info": {
   "codemirror_mode": {
    "name": "ipython",
    "version": 3
   },
   "file_extension": ".py",
   "mimetype": "text/x-python",
   "name": "python",
   "nbconvert_exporter": "python",
   "pygments_lexer": "ipython3",
   "version": "3.6.6"
  }
 },
 "nbformat": 4,
 "nbformat_minor": 1
}
